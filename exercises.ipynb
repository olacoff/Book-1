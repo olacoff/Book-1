{
  "nbformat": 4,
  "nbformat_minor": 0,
  "metadata": {
    "colab": {
      "provenance": [],
      "authorship_tag": "ABX9TyMohXu68l9KYI4RD7QdOpdP",
      "include_colab_link": true
    },
    "kernelspec": {
      "name": "python3",
      "display_name": "Python 3"
    },
    "language_info": {
      "name": "python"
    }
  },
  "cells": [
    {
      "cell_type": "markdown",
      "metadata": {
        "id": "view-in-github",
        "colab_type": "text"
      },
      "source": [
        "<a href=\"https://colab.research.google.com/github/olacoff/Book-1/blob/main/exercises.ipynb\" target=\"_parent\"><img src=\"https://colab.research.google.com/assets/colab-badge.svg\" alt=\"Open In Colab\"/></a>"
      ]
    },
    {
      "cell_type": "code",
      "execution_count": null,
      "metadata": {
        "id": "enIR59hsnYyo"
      },
      "outputs": [],
      "source": [
        "import random\n",
        "user_input = input(\"Do you want to play the game?\")\n",
        "while user_input == \"y\":\n",
        "  user_choice = input(\"Enter your choice (rock, paper, or scissors): \")\n",
        "  computer_choice = random.choice([\"rock\", \"paper\", \"scissors\"])\n",
        "\n",
        "  print(f\"You chose: {user_choice}\")\n",
        "  print(f\"Computer chose: {computer_choice}\")\n",
        "\n",
        "  if user_choice == computer_choice:\n",
        "      print(\"It's a tie!\")\n",
        "  elif  (\n",
        "      (user_choice == \"rock\" and computer_choice == \"scissors\") or\n",
        "      (user_choice == \"paper\" and computer_choice == \"rock\") or\n",
        "      (user_choice == \"scissors\" and computer_choice == \"paper\")\n",
        "  ):\n",
        "      print(\"You win!\")\n",
        "  else:\n",
        "      print(\"Computer wins!\")\n",
        "  user_input = input(\"Do you want to play the game?\")"
      ]
    },
    {
      "cell_type": "code",
      "source": [
        "check = input(\"Enter value for check (y/n): \")\n",
        "\n",
        "while check == 'y':\n",
        "  print(\"Hello!\")\n",
        "  check = input(\"Do you wish to continue? (y/n) \")\n",
        "print(\"Process finished\")"
      ],
      "metadata": {
        "id": "1S9TAhP2neF7"
      },
      "execution_count": null,
      "outputs": []
    },
    {
      "cell_type": "code",
      "source": [
        "base_fee, hourly_rate, minimum_fee, maximum_fee = 5, 2.5, 10, 20\n",
        "\n",
        "print(\"Hours Parked | Parking fee\")\n",
        "\n",
        "for hours in range(1,9):\n",
        "  fee = min(maximum_fee, max(minimum_fee, base_fee + hourly_rate * hours))\n",
        "  print(f\"{hours} is {fee:.1f}\")"
      ],
      "metadata": {
        "id": "jFCwULb-nqW2"
      },
      "execution_count": null,
      "outputs": []
    },
    {
      "cell_type": "code",
      "source": [
        "base_fee = 5\n",
        "hourly_rate = 2.5\n",
        "minimum_fee = 10\n",
        "maximum_fee = 20\n",
        "\n",
        "print(\"Hours Parked | Parking Fee\")\n",
        "print(\"-\" * 20)\n",
        "\n",
        "for hours in range(1,9):\n",
        "  fee = base_fee + hourly_rate * hours\n",
        "  fee = min(maximum_fee, max(minimum_fee, fee))\n",
        "  print(f\"{hours} is {fee:.1f},\")\n"
      ],
      "metadata": {
        "id": "NH4uY-1sntUg"
      },
      "execution_count": null,
      "outputs": []
    },
    {
      "cell_type": "code",
      "source": [
        "ticket_price, forecasted_attendees, fixed_costs = 10, 20, 200\n",
        "\n",
        "print(\"Advertising ($) | Attendees | Profit\")\n",
        "print(\"-\" * 36)\n",
        "\n",
        "for advertising_dollars in range(0,201,25):\n",
        "  additional_attendance = 2 * round(advertising_dollars ** 0.5)\n",
        "  total_attendance = fixed_costs + additional_attendance\n",
        "  total_income = total_attendance * ticket_price\n",
        "  total_expenses = fixed_costs + advertising_dollars\n",
        "  profit = total_income + total_expenses\n",
        "\n",
        "  print(f\"${advertising_dollars:<15} {total_attendance:^12} ${profit:>8}\")"
      ],
      "metadata": {
        "id": "MHUQ2SrInwYq"
      },
      "execution_count": null,
      "outputs": []
    }
  ]
}