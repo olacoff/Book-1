{
  "nbformat": 4,
  "nbformat_minor": 0,
  "metadata": {
    "colab": {
      "provenance": [],
      "authorship_tag": "ABX9TyPJBWXZZyZbcIGlxL6PrucY",
      "include_colab_link": true
    },
    "kernelspec": {
      "name": "python3",
      "display_name": "Python 3"
    },
    "language_info": {
      "name": "python"
    }
  },
  "cells": [
    {
      "cell_type": "markdown",
      "metadata": {
        "id": "view-in-github",
        "colab_type": "text"
      },
      "source": [
        "<a href=\"https://colab.research.google.com/github/olacoff/Book-1/blob/main/exercises.ipynb\" target=\"_parent\"><img src=\"https://colab.research.google.com/assets/colab-badge.svg\" alt=\"Open In Colab\"/></a>"
      ]
    },
    {
      "cell_type": "code",
      "source": [
        "while True:\n",
        "  num1 = float(input('Enter the first number: '))\n",
        "  num2 = float(input('Enter the second number: '))\n",
        "  operator = input('Enter the operator: ')\n",
        "\n",
        "  if operator == 'break':\n",
        "    break\n",
        "\n",
        "  if operator == \"+\":\n",
        "    answer = num1 + num2\n",
        "  elif operator == \"-\":\n",
        "    answer = num1 - num2\n",
        "  elif operator == \"*\":\n",
        "    answer = num1 * num2\n",
        "  elif operator == \"/\":\n",
        "    answer = num1 / num2\n",
        "  elif operator == \"//\":\n",
        "    answer = num1 // num2\n",
        "  elif operator == \"**\":\n",
        "    answer = num1 ** num2\n",
        "  elif operator == \"%\":\n",
        "    answer = num1 % num2\n",
        "  else:\n",
        "    print('Invalid operator:', operator)\n",
        "    continue\n",
        "  print(\"Result: \", answer)"
      ],
      "metadata": {
        "colab": {
          "base_uri": "https://localhost:8080/",
          "height": 454
        },
        "id": "arR-BI50486f",
        "outputId": "cfefa600-a323-4388-de12-5daa259ec1ff"
      },
      "execution_count": null,
      "outputs": [
        {
          "output_type": "stream",
          "name": "stdout",
          "text": [
            "Enter the first number: 5\n",
            "Enter the second number: 5\n",
            "Enter the operator: *\n",
            "Result:  25.0\n"
          ]
        },
        {
          "output_type": "error",
          "ename": "KeyboardInterrupt",
          "evalue": "Interrupted by user",
          "traceback": [
            "\u001b[0;31m---------------------------------------------------------------------------\u001b[0m",
            "\u001b[0;31mKeyboardInterrupt\u001b[0m                         Traceback (most recent call last)",
            "\u001b[0;32m<ipython-input-4-b1c11da98b6b>\u001b[0m in \u001b[0;36m<cell line: 1>\u001b[0;34m()\u001b[0m\n\u001b[1;32m      1\u001b[0m \u001b[0;32mwhile\u001b[0m \u001b[0;32mTrue\u001b[0m\u001b[0;34m:\u001b[0m\u001b[0;34m\u001b[0m\u001b[0;34m\u001b[0m\u001b[0m\n\u001b[0;32m----> 2\u001b[0;31m   \u001b[0mnum1\u001b[0m \u001b[0;34m=\u001b[0m \u001b[0mfloat\u001b[0m\u001b[0;34m(\u001b[0m\u001b[0minput\u001b[0m\u001b[0;34m(\u001b[0m\u001b[0;34m'Enter the first number: '\u001b[0m\u001b[0;34m)\u001b[0m\u001b[0;34m)\u001b[0m\u001b[0;34m\u001b[0m\u001b[0;34m\u001b[0m\u001b[0m\n\u001b[0m\u001b[1;32m      3\u001b[0m   \u001b[0mnum2\u001b[0m \u001b[0;34m=\u001b[0m \u001b[0mfloat\u001b[0m\u001b[0;34m(\u001b[0m\u001b[0minput\u001b[0m\u001b[0;34m(\u001b[0m\u001b[0;34m'Enter the second number: '\u001b[0m\u001b[0;34m)\u001b[0m\u001b[0;34m)\u001b[0m\u001b[0;34m\u001b[0m\u001b[0;34m\u001b[0m\u001b[0m\n\u001b[1;32m      4\u001b[0m   \u001b[0moperator\u001b[0m \u001b[0;34m=\u001b[0m \u001b[0minput\u001b[0m\u001b[0;34m(\u001b[0m\u001b[0;34m'Enter the operator: '\u001b[0m\u001b[0;34m)\u001b[0m\u001b[0;34m\u001b[0m\u001b[0;34m\u001b[0m\u001b[0m\n\u001b[1;32m      5\u001b[0m \u001b[0;34m\u001b[0m\u001b[0m\n",
            "\u001b[0;32m/usr/local/lib/python3.10/dist-packages/ipykernel/kernelbase.py\u001b[0m in \u001b[0;36mraw_input\u001b[0;34m(self, prompt)\u001b[0m\n\u001b[1;32m    849\u001b[0m                 \u001b[0;34m\"raw_input was called, but this frontend does not support input requests.\"\u001b[0m\u001b[0;34m\u001b[0m\u001b[0;34m\u001b[0m\u001b[0m\n\u001b[1;32m    850\u001b[0m             )\n\u001b[0;32m--> 851\u001b[0;31m         return self._input_request(str(prompt),\n\u001b[0m\u001b[1;32m    852\u001b[0m             \u001b[0mself\u001b[0m\u001b[0;34m.\u001b[0m\u001b[0m_parent_ident\u001b[0m\u001b[0;34m,\u001b[0m\u001b[0;34m\u001b[0m\u001b[0;34m\u001b[0m\u001b[0m\n\u001b[1;32m    853\u001b[0m             \u001b[0mself\u001b[0m\u001b[0;34m.\u001b[0m\u001b[0m_parent_header\u001b[0m\u001b[0;34m,\u001b[0m\u001b[0;34m\u001b[0m\u001b[0;34m\u001b[0m\u001b[0m\n",
            "\u001b[0;32m/usr/local/lib/python3.10/dist-packages/ipykernel/kernelbase.py\u001b[0m in \u001b[0;36m_input_request\u001b[0;34m(self, prompt, ident, parent, password)\u001b[0m\n\u001b[1;32m    893\u001b[0m             \u001b[0;32mexcept\u001b[0m \u001b[0mKeyboardInterrupt\u001b[0m\u001b[0;34m:\u001b[0m\u001b[0;34m\u001b[0m\u001b[0;34m\u001b[0m\u001b[0m\n\u001b[1;32m    894\u001b[0m                 \u001b[0;31m# re-raise KeyboardInterrupt, to truncate traceback\u001b[0m\u001b[0;34m\u001b[0m\u001b[0;34m\u001b[0m\u001b[0m\n\u001b[0;32m--> 895\u001b[0;31m                 \u001b[0;32mraise\u001b[0m \u001b[0mKeyboardInterrupt\u001b[0m\u001b[0;34m(\u001b[0m\u001b[0;34m\"Interrupted by user\"\u001b[0m\u001b[0;34m)\u001b[0m \u001b[0;32mfrom\u001b[0m \u001b[0;32mNone\u001b[0m\u001b[0;34m\u001b[0m\u001b[0;34m\u001b[0m\u001b[0m\n\u001b[0m\u001b[1;32m    896\u001b[0m             \u001b[0;32mexcept\u001b[0m \u001b[0mException\u001b[0m \u001b[0;32mas\u001b[0m \u001b[0me\u001b[0m\u001b[0;34m:\u001b[0m\u001b[0;34m\u001b[0m\u001b[0;34m\u001b[0m\u001b[0m\n\u001b[1;32m    897\u001b[0m                 \u001b[0mself\u001b[0m\u001b[0;34m.\u001b[0m\u001b[0mlog\u001b[0m\u001b[0;34m.\u001b[0m\u001b[0mwarning\u001b[0m\u001b[0;34m(\u001b[0m\u001b[0;34m\"Invalid Message:\"\u001b[0m\u001b[0;34m,\u001b[0m \u001b[0mexc_info\u001b[0m\u001b[0;34m=\u001b[0m\u001b[0;32mTrue\u001b[0m\u001b[0;34m)\u001b[0m\u001b[0;34m\u001b[0m\u001b[0;34m\u001b[0m\u001b[0m\n",
            "\u001b[0;31mKeyboardInterrupt\u001b[0m: Interrupted by user"
          ]
        }
      ]
    },
    {
      "cell_type": "code",
      "execution_count": null,
      "metadata": {
        "id": "enIR59hsnYyo"
      },
      "outputs": [],
      "source": [
        "import random\n",
        "user_input = input(\"Do you want to play the game?\")\n",
        "while user_input == \"y\":\n",
        "  user_choice = input(\"Enter your choice (rock, paper, or scissors): \")\n",
        "  computer_choice = random.choice([\"rock\", \"paper\", \"scissors\"])\n",
        "\n",
        "  print(f\"You chose: {user_choice}\")\n",
        "  print(f\"Computer chose: {computer_choice}\")\n",
        "\n",
        "  if user_choice == computer_choice:\n",
        "      print(\"It's a tie!\")\n",
        "  elif  (\n",
        "      (user_choice == \"rock\" and computer_choice == \"scissors\") or\n",
        "      (user_choice == \"paper\" and computer_choice == \"rock\") or\n",
        "      (user_choice == \"scissors\" and computer_choice == \"paper\")\n",
        "  ):\n",
        "      print(\"You win!\")\n",
        "  else:\n",
        "      print(\"Computer wins!\")\n",
        "  user_input = input(\"Do you want to play the game?\")"
      ]
    },
    {
      "cell_type": "code",
      "source": [
        "check = input(\"Enter value for check (y/n): \")\n",
        "\n",
        "while check == 'y':\n",
        "  print(\"Hello!\")\n",
        "  check = input(\"Do you wish to continue? (y/n) \")\n",
        "print(\"Process finished\")"
      ],
      "metadata": {
        "id": "1S9TAhP2neF7"
      },
      "execution_count": null,
      "outputs": []
    },
    {
      "cell_type": "code",
      "source": [
        "base_fee, hourly_rate, minimum_fee, maximum_fee = 5, 2.5, 10, 20\n",
        "\n",
        "print(\"Hours Parked | Parking fee\")\n",
        "\n",
        "for hours in range(1,9):\n",
        "  fee = min(maximum_fee, max(minimum_fee, base_fee + hourly_rate * hours))\n",
        "  print(f\"{hours} is {fee:.1f}\")"
      ],
      "metadata": {
        "id": "jFCwULb-nqW2"
      },
      "execution_count": null,
      "outputs": []
    },
    {
      "cell_type": "code",
      "source": [
        "base_fee = 5\n",
        "hourly_rate = 2.5\n",
        "minimum_fee = 10\n",
        "maximum_fee = 20\n",
        "\n",
        "print(\"Hours Parked | Parking Fee\")\n",
        "print(\"-\" * 20)\n",
        "\n",
        "for hours in range(1,9):\n",
        "  fee = base_fee + hourly_rate * hours\n",
        "  fee = min(maximum_fee, max(minimum_fee, fee))\n",
        "  print(f\"{hours} is {fee:.1f},\")\n"
      ],
      "metadata": {
        "id": "NH4uY-1sntUg"
      },
      "execution_count": null,
      "outputs": []
    },
    {
      "cell_type": "code",
      "source": [
        "ticket_price, forecasted_attendees, fixed_costs = 10, 20, 200\n",
        "\n",
        "print(\"Advertising ($) | Attendees | Profit\")\n",
        "print(\"-\" * 36)\n",
        "\n",
        "for advertising_dollars in range(0,201,25):\n",
        "  additional_attendance = 2 * round(advertising_dollars ** 0.5)\n",
        "  total_attendance = fixed_costs + additional_attendance\n",
        "  total_income = total_attendance * ticket_price\n",
        "  total_expenses = fixed_costs + advertising_dollars\n",
        "  profit = total_income + total_expenses\n",
        "\n",
        "  print(f\"${advertising_dollars:<15} {total_attendance:^12} ${profit:>8}\")"
      ],
      "metadata": {
        "id": "MHUQ2SrInwYq"
      },
      "execution_count": null,
      "outputs": []
    },
    {
      "cell_type": "code",
      "source": [
        "numbers = [1,2,3,4,5,6,7,8,9,10,11,12]\n",
        "names = [\"Jan\", \"Feb\", \"Mar\", \"Apr\", \"May\", \"Jun\", \"Jul\", \"Aug\", \"Sep\", \"Oct\", \"Nov\", \"Dec\"]\n",
        "\n",
        "months = {}\n",
        "\n",
        "for i in range(0,11):\n",
        "  months[i+1]= names[i]\n",
        "\n",
        "print(months)"
      ],
      "metadata": {
        "id": "UaSF0RYT4DK5"
      },
      "execution_count": null,
      "outputs": []
    }
  ]
}